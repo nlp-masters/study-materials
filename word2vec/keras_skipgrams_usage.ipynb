{
  "nbformat": 4,
  "nbformat_minor": 0,
  "metadata": {
    "colab": {
      "name": "keras skipgrams usage.ipynb",
      "provenance": []
    },
    "kernelspec": {
      "name": "python3",
      "display_name": "Python 3"
    }
  },
  "cells": [
    {
      "cell_type": "markdown",
      "metadata": {
        "id": "W_BUKx59-Yog"
      },
      "source": [
        "$softmax(a_j) = \\frac{exp(a_j)}{\\sum_{k=1}^{W}(exp(a_k))}$"
      ]
    },
    {
      "cell_type": "code",
      "metadata": {
        "colab": {
          "base_uri": "https://localhost:8080/"
        },
        "id": "9wYgEU6Q9fg-",
        "outputId": "33f4af42-2861-4416-d26c-2a8016659b1c"
      },
      "source": [
        "import numpy as np\n",
        "def softmax(a):\n",
        "\n",
        "    exp_a = np.exp(a)\n",
        "    print('지수 파트',exp_a)\n",
        "    sum_exp_a = np.sum(exp_a)\n",
        "    print('총합 파트',sum_exp_a)\n",
        "    y = exp_a/sum_exp_a\n",
        "\n",
        "    return y\n",
        "\n",
        "a = [0.2, 0.32, 0.1, 0.54]\n",
        "result=softmax(a)\n",
        "print('결과',result)\n",
        "\n",
        "sum=0\n",
        "for i in result:\n",
        "    sum+=i\n",
        "\n",
        "print(sum)"
      ],
      "execution_count": 20,
      "outputs": [
        {
          "output_type": "stream",
          "text": [
            "지수 파트 [1.22140276 1.37712776 1.10517092 1.71600686]\n",
            "총합 파트 5.419708302756633\n",
            "결과 [0.22536319 0.25409629 0.20391705 0.31662347]\n",
            "1.0\n"
          ],
          "name": "stdout"
        }
      ]
    },
    {
      "cell_type": "markdown",
      "metadata": {
        "id": "MTqyjz9c_Erk"
      },
      "source": [
        "$CE = -\\sum_k log(y_k)$"
      ]
    },
    {
      "cell_type": "markdown",
      "metadata": {
        "id": "kmYbqqnsCtos"
      },
      "source": [
        "[출처] [파이썬][딥러닝] 손실 함수 (평균 제곱오차, 교차 엔트로피 오차)|작성자 하쿠나마타"
      ]
    },
    {
      "cell_type": "code",
      "metadata": {
        "colab": {
          "base_uri": "https://localhost:8080/"
        },
        "id": "fO5nV9VE_KNi",
        "outputId": "902bbefc-6294-4987-87af-24974a3bb015"
      },
      "source": [
        "# coding: utf-8\n",
        "\n",
        "import numpy as np\n",
        "\n",
        "# cross entropy error\n",
        "\n",
        "# 교차 엔트로피 오차\n",
        "\n",
        "def cross_entropy_error(y,t):\n",
        "\n",
        "    delta = 1e-7\n",
        "\n",
        "    return -np.sum(t*np.log(y+delta))\n",
        "\n",
        "\n",
        "\n",
        "# 2인 이미지를 본다.\n",
        "\n",
        "# 정답 레이블\n",
        "\n",
        "t = [0,0,1,0,0,0,0,0,0,0]\n",
        "\n",
        "\n",
        "\n",
        "# 추론하여 나온 결과값이 2일 확률이 제일 높다고 나온경우 \n",
        "\n",
        "y1 = [0.1,0.05,0.6,0.0,0.05,0.1,0.0,0.1,0.0,0.0]\n",
        "\n",
        "print(cross_entropy_error(np.array(y1), np.array(t)))\n",
        "\n",
        "# [틀린추론]추론하여 나온 결과값이 7일 확률이 제일 높다고 나온경우 \n",
        "\n",
        "y2 = [0.1,0.05,0.1,0.0,0.05,0.1,0.0,0.6,0.0,0.0]\n",
        "\n",
        "print(cross_entropy_error(np.array(y2), np.array(t)))\n",
        "\n",
        "# 2.30258409299\n"
      ],
      "execution_count": 46,
      "outputs": [
        {
          "output_type": "stream",
          "text": [
            "0.510825457099338\n",
            "2.302584092994546\n"
          ],
          "name": "stdout"
        }
      ]
    },
    {
      "cell_type": "code",
      "metadata": {
        "id": "z3B2hqJSJvoh"
      },
      "source": [
        "from keras.preprocessing.sequence import skipgrams"
      ],
      "execution_count": 6,
      "outputs": []
    },
    {
      "cell_type": "code",
      "metadata": {
        "colab": {
          "base_uri": "https://localhost:8080/"
        },
        "id": "yABAZia5J7W0",
        "outputId": "cb956350-6372-4c89-aa21-881cd2eabd88"
      },
      "source": [
        "raw = '운동을 싫어하지만 나는 일요일에 테니스를 치러 간다'\n",
        "raw = raw.split()\n",
        "print(raw)"
      ],
      "execution_count": 7,
      "outputs": [
        {
          "output_type": "stream",
          "text": [
            "['운동을', '싫어하지만', '나는', '일요일에', '테니스를', '치러', '간다']\n"
          ],
          "name": "stdout"
        }
      ]
    },
    {
      "cell_type": "markdown",
      "metadata": {
        "id": "kqz2C2EyKNP6"
      },
      "source": [
        "## 전처리"
      ]
    },
    {
      "cell_type": "code",
      "metadata": {
        "colab": {
          "base_uri": "https://localhost:8080/"
        },
        "id": "2mKPn6h4KOf2",
        "outputId": "ae9b4380-8162-43a0-fc2b-770f8014e8c8"
      },
      "source": [
        "w2i = {w:i for i,w in enumerate(raw)}\n",
        "i2w = {i:w for i,w in enumerate(raw)}\n",
        "\n",
        "sequence = [w2i[word] for word in raw]\n",
        "print(w2i)\n",
        "print(sequence)"
      ],
      "execution_count": 8,
      "outputs": [
        {
          "output_type": "stream",
          "text": [
            "{'운동을': 0, '싫어하지만': 1, '나는': 2, '일요일에': 3, '테니스를': 4, '치러': 5, '간다': 6}\n",
            "[0, 1, 2, 3, 4, 5, 6]\n"
          ],
          "name": "stdout"
        }
      ]
    },
    {
      "cell_type": "markdown",
      "metadata": {
        "id": "HwyfXGycKxno"
      },
      "source": [
        "## skipgrams 적용"
      ]
    },
    {
      "cell_type": "markdown",
      "metadata": {
        "id": "lc24JmzEK5Jx"
      },
      "source": [
        "- 1: positive  \n",
        "- 0: negative"
      ]
    },
    {
      "cell_type": "code",
      "metadata": {
        "id": "JL7REMdSK0GJ"
      },
      "source": [
        "ctx, labels = skipgrams(sequence=sequence,vocabulary_size=len(w2i.keys()), window_size=1,negative_samples=0.75) # 마지막 입력은 neg_sample과 pos_sample의 비율"
      ],
      "execution_count": 9,
      "outputs": []
    },
    {
      "cell_type": "code",
      "metadata": {
        "colab": {
          "base_uri": "https://localhost:8080/"
        },
        "id": "QqXbfTgmLI8p",
        "outputId": "fb44608c-513b-42eb-e631-9cc5df37c457"
      },
      "source": [
        "cnt=1\n",
        "pos = 0\n",
        "neg = 0\n",
        "print(raw,'\\n')\n",
        "for context, label in zip(ctx, labels):\n",
        "    input_word, output_word = context\n",
        "    print(f'중심 단어: {i2w[input_word]},\\n주변 단어: {i2w[output_word]}, \\n라벨: {label}\\n\\n')\n",
        "    if label == 1:\n",
        "        pos += 1\n",
        "    else:\n",
        "        neg += 1\n",
        "    cnt+=1\n",
        "\n",
        "print('출력 횟수:',cnt)\n",
        "print(f'positive sample 개수: {pos},\\n negative sample 개수: {neg}')"
      ],
      "execution_count": 11,
      "outputs": [
        {
          "output_type": "stream",
          "text": [
            "['운동을', '싫어하지만', '나는', '일요일에', '테니스를', '치러', '간다'] \n",
            "\n",
            "중심 단어: 일요일에,\n",
            "주변 단어: 나는, \n",
            "라벨: 1\n",
            "\n",
            "\n",
            "중심 단어: 나는,\n",
            "주변 단어: 나는, \n",
            "라벨: 0\n",
            "\n",
            "\n",
            "중심 단어: 싫어하지만,\n",
            "주변 단어: 나는, \n",
            "라벨: 1\n",
            "\n",
            "\n",
            "중심 단어: 나는,\n",
            "주변 단어: 싫어하지만, \n",
            "라벨: 1\n",
            "\n",
            "\n",
            "중심 단어: 일요일에,\n",
            "주변 단어: 싫어하지만, \n",
            "라벨: 0\n",
            "\n",
            "\n",
            "중심 단어: 테니스를,\n",
            "주변 단어: 간다, \n",
            "라벨: 0\n",
            "\n",
            "\n",
            "중심 단어: 나는,\n",
            "주변 단어: 일요일에, \n",
            "라벨: 0\n",
            "\n",
            "\n",
            "중심 단어: 치러,\n",
            "주변 단어: 간다, \n",
            "라벨: 1\n",
            "\n",
            "\n",
            "중심 단어: 일요일에,\n",
            "주변 단어: 테니스를, \n",
            "라벨: 1\n",
            "\n",
            "\n",
            "중심 단어: 간다,\n",
            "주변 단어: 치러, \n",
            "라벨: 1\n",
            "\n",
            "\n",
            "중심 단어: 치러,\n",
            "주변 단어: 나는, \n",
            "라벨: 0\n",
            "\n",
            "\n",
            "중심 단어: 치러,\n",
            "주변 단어: 테니스를, \n",
            "라벨: 1\n",
            "\n",
            "\n",
            "중심 단어: 테니스를,\n",
            "주변 단어: 일요일에, \n",
            "라벨: 1\n",
            "\n",
            "\n",
            "중심 단어: 나는,\n",
            "주변 단어: 일요일에, \n",
            "라벨: 1\n",
            "\n",
            "\n",
            "중심 단어: 일요일에,\n",
            "주변 단어: 싫어하지만, \n",
            "라벨: 0\n",
            "\n",
            "\n",
            "중심 단어: 간다,\n",
            "주변 단어: 나는, \n",
            "라벨: 0\n",
            "\n",
            "\n",
            "중심 단어: 테니스를,\n",
            "주변 단어: 치러, \n",
            "라벨: 1\n",
            "\n",
            "\n",
            "출력 횟수: 18\n",
            "positive sample 개수: 10,\n",
            " negative sample 개수: 7\n"
          ],
          "name": "stdout"
        }
      ]
    }
  ]
}