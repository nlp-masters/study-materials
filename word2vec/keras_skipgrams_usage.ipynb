{
  "nbformat": 4,
  "nbformat_minor": 0,
  "metadata": {
    "colab": {
      "name": "keras skipgrams usage.ipynb",
      "provenance": []
    },
    "kernelspec": {
      "name": "python3",
      "display_name": "Python 3"
    }
  },
  "cells": [
    {
      "cell_type": "code",
      "metadata": {
        "id": "z3B2hqJSJvoh"
      },
      "source": [
        "from keras.preprocessing.sequence import skipgrams"
      ],
      "execution_count": 4,
      "outputs": []
    },
    {
      "cell_type": "code",
      "metadata": {
        "colab": {
          "base_uri": "https://localhost:8080/"
        },
        "id": "yABAZia5J7W0",
        "outputId": "d14ca441-479e-4d25-b557-d529c6caaa6d"
      },
      "source": [
        "raw = '나는 일요일에 테니스를 치러 간다'\n",
        "raw = raw.split()\n",
        "print(raw)"
      ],
      "execution_count": 13,
      "outputs": [
        {
          "output_type": "stream",
          "text": [
            "['나는', '일요일에', '테니스를', '치러', '간다']\n"
          ],
          "name": "stdout"
        }
      ]
    },
    {
      "cell_type": "markdown",
      "metadata": {
        "id": "kqz2C2EyKNP6"
      },
      "source": [
        "## 전처리"
      ]
    },
    {
      "cell_type": "code",
      "metadata": {
        "colab": {
          "base_uri": "https://localhost:8080/"
        },
        "id": "2mKPn6h4KOf2",
        "outputId": "88bc8b36-e22b-4cc8-8154-1c0873208d21"
      },
      "source": [
        "w2i = {w:i for i,w in enumerate(raw)}\n",
        "i2w = {i:w for i,w in enumerate(raw)}\n",
        "\n",
        "sequence = [w2i[word] for word in raw]\n",
        "print(w2i)\n",
        "print(sequence)"
      ],
      "execution_count": 14,
      "outputs": [
        {
          "output_type": "stream",
          "text": [
            "{'나는': 0, '일요일에': 1, '테니스를': 2, '치러': 3, '간다': 4}\n",
            "[0, 1, 2, 3, 4]\n"
          ],
          "name": "stdout"
        }
      ]
    },
    {
      "cell_type": "markdown",
      "metadata": {
        "id": "HwyfXGycKxno"
      },
      "source": [
        "## skipgrams 적용"
      ]
    },
    {
      "cell_type": "markdown",
      "metadata": {
        "id": "lc24JmzEK5Jx"
      },
      "source": [
        "- 1: positive  \n",
        "- 0: negative"
      ]
    },
    {
      "cell_type": "code",
      "metadata": {
        "id": "JL7REMdSK0GJ"
      },
      "source": [
        "ctx, labels = skipgrams(sequence=sequence,vocabulary_size=len(w2i.keys()), window_size=2,negative_samples=0.75) # 마지막 입력은 neg_sample과 pos_sample의 비율"
      ],
      "execution_count": 21,
      "outputs": []
    },
    {
      "cell_type": "code",
      "metadata": {
        "colab": {
          "base_uri": "https://localhost:8080/"
        },
        "id": "QqXbfTgmLI8p",
        "outputId": "3b587d04-1358-4a1b-fede-0c16f671fc4c"
      },
      "source": [
        "cnt=1\n",
        "pos = 0\n",
        "neg = 0\n",
        "print(raw,'\\n')\n",
        "for context, label in zip(ctx, labels):\n",
        "    input_word, output_word = context\n",
        "    print(f'중심 단어: {i2w[input_word]},\\n주변 단어: {i2w[output_word]}, \\n라벨: {label}\\n\\n')\n",
        "    if label == 1:\n",
        "        pos += 1\n",
        "    else:\n",
        "        neg += 1\n",
        "    cnt+=1\n",
        "\n",
        "print('출력 횟수:',cnt)\n",
        "print(f'positive sample 개수: {pos},\\n negative sample 개수: {neg}')"
      ],
      "execution_count": 26,
      "outputs": [
        {
          "output_type": "stream",
          "text": [
            "['나는', '일요일에', '테니스를', '치러', '간다'] \n",
            "\n",
            "중심 단어: 간다,\n",
            "주변 단어: 테니스를, \n",
            "라벨: 0\n",
            "\n",
            "\n",
            "중심 단어: 치러,\n",
            "주변 단어: 일요일에, \n",
            "라벨: 1\n",
            "\n",
            "\n",
            "중심 단어: 일요일에,\n",
            "주변 단어: 치러, \n",
            "라벨: 1\n",
            "\n",
            "\n",
            "중심 단어: 테니스를,\n",
            "주변 단어: 치러, \n",
            "라벨: 1\n",
            "\n",
            "\n",
            "중심 단어: 치러,\n",
            "주변 단어: 간다, \n",
            "라벨: 1\n",
            "\n",
            "\n",
            "중심 단어: 간다,\n",
            "주변 단어: 테니스를, \n",
            "라벨: 1\n",
            "\n",
            "\n",
            "중심 단어: 간다,\n",
            "주변 단어: 치러, \n",
            "라벨: 1\n",
            "\n",
            "\n",
            "중심 단어: 테니스를,\n",
            "주변 단어: 간다, \n",
            "라벨: 1\n",
            "\n",
            "\n",
            "중심 단어: 일요일에,\n",
            "주변 단어: 테니스를, \n",
            "라벨: 1\n",
            "\n",
            "\n",
            "중심 단어: 간다,\n",
            "주변 단어: 테니스를, \n",
            "라벨: 0\n",
            "\n",
            "\n",
            "중심 단어: 일요일에,\n",
            "주변 단어: 일요일에, \n",
            "라벨: 0\n",
            "\n",
            "\n",
            "중심 단어: 치러,\n",
            "주변 단어: 치러, \n",
            "라벨: 0\n",
            "\n",
            "\n",
            "중심 단어: 테니스를,\n",
            "주변 단어: 일요일에, \n",
            "라벨: 1\n",
            "\n",
            "\n",
            "중심 단어: 테니스를,\n",
            "주변 단어: 치러, \n",
            "라벨: 0\n",
            "\n",
            "\n",
            "중심 단어: 치러,\n",
            "주변 단어: 테니스를, \n",
            "라벨: 1\n",
            "\n",
            "\n",
            "중심 단어: 테니스를,\n",
            "주변 단어: 일요일에, \n",
            "라벨: 0\n",
            "\n",
            "\n",
            "중심 단어: 일요일에,\n",
            "주변 단어: 간다, \n",
            "라벨: 0\n",
            "\n",
            "\n",
            "출력 횟수: 18\n",
            "positive sample 개수: 10,\n",
            " negative sample 개수: 7\n"
          ],
          "name": "stdout"
        }
      ]
    }
  ]
}